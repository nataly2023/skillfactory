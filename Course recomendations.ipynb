{
 "cells": [
  {
   "cell_type": "markdown",
   "metadata": {
    "id": "4i3NYn5o2ue3"
   },
   "source": [
    "# FINAL PROJECT. Solution for complex business task. Creation of recommendation system for online courses for online college MasterMind."
   ]
  },
  {
   "cell_type": "markdown",
   "metadata": {
    "id": "m87Tf-S-2ue8"
   },
   "source": [
    "## Project goal\n",
    "\n",
    "Build course recommendation system by proposing similar courses by interests for increasing average income from customers.\n"
   ]
  },
  {
   "cell_type": "markdown",
   "metadata": {
    "id": "4OPv9bQy2ue9"
   },
   "source": [
    "## Tasks\n",
    "\n",
    "1. Explore and analyse the dataset with SQL, and prepare data. \n",
    "\n",
    "2. Process the data with Python. \n",
    "\n",
    "3. Build summary table with recommendations, and provide arguments for conclusions."
   ]
  },
  {
   "cell_type": "markdown",
   "metadata": {
    "id": "T5u0ksvX2ue-"
   },
   "source": [
    "### 1. SQL queries to explore the data\n",
    "<div class=\"alert alert-block alert-info\">\n",
    "<pre>\n",
    "<b>What is the year span in data?</b></div>\n",
    "<div class=\"alert alert-block alert-success\">\n",
    "\n",
    "<pre>\n",
    "\n",
    "SELECT \n",
    "    min(purchased_at),\n",
    "    max(purchased_at)\n",
    "FROM \n",
    "    final.carts\n",
    "WHERE \n",
    "    state = 'successful'\n",
    " \n",
    "<b>Answer:</b>  2017, 2018\n",
    "</div>\n",
    "<div class=\"alert alert-block alert-info\">\n",
    "<pre>\n",
    "<b>How many customers bought courses?</b></div>\n",
    "\n",
    "<div class=\"alert alert-block alert-success\">\n",
    "\n",
    "<pre>\n",
    "\n",
    "SELECT \n",
    "    count(distinct(user_id))\n",
    "FROM \n",
    "    final.carts c\n",
    "JOIN \n",
    "    final.cart_items ci \n",
    "        ON c.id=ci.cart_id\n",
    "WHERE \n",
    "    c.state='successful'\n",
    "    AND ci.resource_type='Course'\n",
    "\n",
    "<b>Answer:</b>  49006\n",
    "</div>\n",
    "\n",
    "<div class=\"alert alert-block alert-info\">\n",
    "<pre>\n",
    "<b>How many courses in course list?</b></div>\n",
    "\n",
    "<div class=\"alert alert-block alert-success\">\n",
    "\n",
    "<pre>\n",
    "\n",
    "SELECT \n",
    "    count(distinct(resource_id))\n",
    "FROM \n",
    "    final.cart_items\n",
    "WHERE \n",
    "    resource_type='Course'\n",
    "\n",
    "<b>Answer:</b>  127\n",
    "</div>\n",
    "\n",
    "<div class=\"alert alert-block alert-info\">\n",
    "<pre>\n",
    "<b>How many courses bought in average by one customer?</b></div>\n",
    "\n",
    "<div class=\"alert alert-block alert-success\">\n",
    "\n",
    "<pre>\n",
    "SELECT \n",
    "    avg(course_num)\n",
    "FROM\n",
    "    (SELECT c.user_id,\n",
    "          count(ci.resource_id) AS course_num\n",
    "   FROM final.carts c\n",
    "   JOIN final.cart_items ci ON c.id=ci.cart_id\n",
    "   WHERE c.state='successful'\n",
    "     AND ci.resource_type='Course'\n",
    "   GROUP BY c.user_id) q1\n",
    "\n",
    "<b>Answer:</b>  1.44\n",
    "</div>\n",
    "<div class=\"alert alert-block alert-info\">\n",
    "<pre>\n",
    "<b>How many customers bought more than one course?</b></div>\n",
    "\n",
    "<div class=\"alert alert-block alert-success\">\n",
    "\n",
    "<pre>\n",
    "WITH users AS\n",
    "    (SELECT c.user_id,\n",
    "          count(ci.resource_id) AS course_num\n",
    "    FROM final.carts c\n",
    "    JOIN final.cart_items ci ON c.id=ci.cart_id\n",
    "    WHERE c.state='successful'\n",
    "        AND ci.resource_type='Course'\n",
    "    GROUP BY c.user_id\n",
    "    HAVING count(DISTINCT ci.resource_id)>1)\n",
    "SELECT \n",
    "    count(DISTINCT(user_id))\n",
    "FROM \n",
    "    users\n",
    "\n",
    "<b>Answer:</b>  12656\n",
    "</div>"
   ]
  },
  {
   "cell_type": "markdown",
   "metadata": {
    "id": "tULAWSbi2ufE"
   },
   "source": [
    "### 2. Data processing with Python"
   ]
  },
  {
   "cell_type": "code",
   "execution_count": 1,
   "metadata": {
    "colab": {
     "base_uri": "https://localhost:8080/"
    },
    "executionInfo": {
     "elapsed": 2559,
     "status": "ok",
     "timestamp": 1654616998920,
     "user": {
      "displayName": "Alex. G",
      "userId": "06735517695008628971"
     },
     "user_tz": -180
    },
    "id": "OV4WHUwc2ufF",
    "outputId": "1682cd62-7c69-48fb-b430-9e033cfc84fb"
   },
   "outputs": [],
   "source": [
    "import psycopg2\n",
    "import psycopg2.extras\n",
    "import pandas as pd\n",
    "import numpy as np\n",
    "import itertools\n",
    "from collections import Counter\n",
    "import matplotlib.pyplot as plt\n",
    "import seaborn as sns"
   ]
  },
  {
   "cell_type": "code",
   "execution_count": 2,
   "metadata": {
    "executionInfo": {
     "elapsed": 235,
     "status": "ok",
     "timestamp": 1654617001063,
     "user": {
      "displayName": "Alex. G",
      "userId": "06735517695008628971"
     },
     "user_tz": -180
    },
    "id": "dSX8sWhT2ufH"
   },
   "outputs": [],
   "source": [
    "# SQL query to get a relevant data about all users who bought more than one course, insert to python function\n",
    "\n",
    "def getUsersBoughtMoreThanOneCourse():\n",
    "    query = '''WITH DATA AS\n",
    "      (SELECT DISTINCT user_id,\n",
    "                       resource_id\n",
    "       FROM final.carts AS c\n",
    "       JOIN final.cart_items AS i ON c.id = i.cart_id\n",
    "       WHERE state = 'successful'\n",
    "         AND resource_type = 'Course'\n",
    "       ORDER BY 1), counter AS\n",
    "      (SELECT user_id,\n",
    "              count(resource_id) AS cc\n",
    "       FROM DATA\n",
    "       GROUP BY user_id)\n",
    "    SELECT c.user_id,\n",
    "           d.resource_id\n",
    "    FROM counter AS c\n",
    "    JOIN DATA AS d ON c.user_id = d.user_id\n",
    "    WHERE cc > 1\n",
    "    ORDER BY 1,2\n",
    "    '''.format()\n",
    "    conn = psycopg2.connect(\"dbname='skillfactory' user='skillfactory' host='84.201.134.129' password='cCkxxLVrDE8EbvjueeMedPKt' port=5432\")\n",
    "    dict_cur = conn.cursor(cursor_factory=psycopg2.extras.DictCursor)\n",
    "    dict_cur.execute(query)\n",
    "    rows = dict_cur.fetchall()\n",
    "    data = []\n",
    "    for row in rows:\n",
    "        data.append(dict(row))\n",
    "    return data"
   ]
  },
  {
   "cell_type": "code",
   "execution_count": 3,
   "metadata": {
    "colab": {
     "base_uri": "https://localhost:8080/",
     "height": 204
    },
    "executionInfo": {
     "elapsed": 2316,
     "status": "ok",
     "timestamp": 1654617004641,
     "user": {
      "displayName": "Alex. G",
      "userId": "06735517695008628971"
     },
     "user_tz": -180
    },
    "id": "Mrvqxhkr2ufK",
    "outputId": "4b0f580f-5693-422a-cdc2-7a911e9bb0cc"
   },
   "outputs": [
    {
     "data": {
      "text/html": [
       "<div>\n",
       "<style scoped>\n",
       "    .dataframe tbody tr th:only-of-type {\n",
       "        vertical-align: middle;\n",
       "    }\n",
       "\n",
       "    .dataframe tbody tr th {\n",
       "        vertical-align: top;\n",
       "    }\n",
       "\n",
       "    .dataframe thead th {\n",
       "        text-align: right;\n",
       "    }\n",
       "</style>\n",
       "<table border=\"1\" class=\"dataframe\">\n",
       "  <thead>\n",
       "    <tr style=\"text-align: right;\">\n",
       "      <th></th>\n",
       "      <th>user_id</th>\n",
       "      <th>resource_id</th>\n",
       "    </tr>\n",
       "  </thead>\n",
       "  <tbody>\n",
       "    <tr>\n",
       "      <th>0</th>\n",
       "      <td>51</td>\n",
       "      <td>516</td>\n",
       "    </tr>\n",
       "    <tr>\n",
       "      <th>1</th>\n",
       "      <td>51</td>\n",
       "      <td>1099</td>\n",
       "    </tr>\n",
       "    <tr>\n",
       "      <th>2</th>\n",
       "      <td>6117</td>\n",
       "      <td>356</td>\n",
       "    </tr>\n",
       "    <tr>\n",
       "      <th>3</th>\n",
       "      <td>6117</td>\n",
       "      <td>357</td>\n",
       "    </tr>\n",
       "    <tr>\n",
       "      <th>4</th>\n",
       "      <td>6117</td>\n",
       "      <td>1125</td>\n",
       "    </tr>\n",
       "  </tbody>\n",
       "</table>\n",
       "</div>"
      ],
      "text/plain": [
       "   user_id  resource_id\n",
       "0       51          516\n",
       "1       51         1099\n",
       "2     6117          356\n",
       "3     6117          357\n",
       "4     6117         1125"
      ]
     },
     "execution_count": 3,
     "metadata": {},
     "output_type": "execute_result"
    }
   ],
   "source": [
    "df = pd.DataFrame(getUsersBoughtMoreThanOneCourse())\n",
    "df.head()"
   ]
  },
  {
   "cell_type": "code",
   "execution_count": 4,
   "metadata": {
    "colab": {
     "base_uri": "https://localhost:8080/",
     "height": 204
    },
    "executionInfo": {
     "elapsed": 269,
     "status": "ok",
     "timestamp": 1654617006445,
     "user": {
      "displayName": "Alex. G",
      "userId": "06735517695008628971"
     },
     "user_tz": -180
    },
    "id": "3l0E992F2ufL",
    "outputId": "2126735f-14df-4221-ba1b-b9f2e8789809"
   },
   "outputs": [
    {
     "data": {
      "text/html": [
       "<div>\n",
       "<style scoped>\n",
       "    .dataframe tbody tr th:only-of-type {\n",
       "        vertical-align: middle;\n",
       "    }\n",
       "\n",
       "    .dataframe tbody tr th {\n",
       "        vertical-align: top;\n",
       "    }\n",
       "\n",
       "    .dataframe thead th {\n",
       "        text-align: right;\n",
       "    }\n",
       "</style>\n",
       "<table border=\"1\" class=\"dataframe\">\n",
       "  <thead>\n",
       "    <tr style=\"text-align: right;\">\n",
       "      <th></th>\n",
       "      <th>user</th>\n",
       "      <th>course</th>\n",
       "    </tr>\n",
       "  </thead>\n",
       "  <tbody>\n",
       "    <tr>\n",
       "      <th>0</th>\n",
       "      <td>51</td>\n",
       "      <td>516</td>\n",
       "    </tr>\n",
       "    <tr>\n",
       "      <th>1</th>\n",
       "      <td>51</td>\n",
       "      <td>1099</td>\n",
       "    </tr>\n",
       "    <tr>\n",
       "      <th>2</th>\n",
       "      <td>6117</td>\n",
       "      <td>356</td>\n",
       "    </tr>\n",
       "    <tr>\n",
       "      <th>3</th>\n",
       "      <td>6117</td>\n",
       "      <td>357</td>\n",
       "    </tr>\n",
       "    <tr>\n",
       "      <th>4</th>\n",
       "      <td>6117</td>\n",
       "      <td>1125</td>\n",
       "    </tr>\n",
       "  </tbody>\n",
       "</table>\n",
       "</div>"
      ],
      "text/plain": [
       "   user  course\n",
       "0    51     516\n",
       "1    51    1099\n",
       "2  6117     356\n",
       "3  6117     357\n",
       "4  6117    1125"
      ]
     },
     "execution_count": 4,
     "metadata": {},
     "output_type": "execute_result"
    }
   ],
   "source": [
    "# rename columns\n",
    "df.columns = ['user', 'course']\n",
    "df.head()"
   ]
  },
  {
   "cell_type": "code",
   "execution_count": 5,
   "metadata": {
    "colab": {
     "base_uri": "https://localhost:8080/"
    },
    "executionInfo": {
     "elapsed": 3,
     "status": "ok",
     "timestamp": 1654617008408,
     "user": {
      "displayName": "Alex. G",
      "userId": "06735517695008628971"
     },
     "user_tz": -180
    },
    "id": "Oy2bVoVv2ufQ",
    "outputId": "d044a76c-b71e-4a47-9162-288e9213aa5d"
   },
   "outputs": [
    {
     "data": {
      "text/plain": [
       "126"
      ]
     },
     "execution_count": 5,
     "metadata": {},
     "output_type": "execute_result"
    }
   ],
   "source": [
    "# find number of customers that bought more than one course\n",
    "df.course.nunique()"
   ]
  },
  {
   "cell_type": "code",
   "execution_count": 6,
   "metadata": {
    "colab": {
     "base_uri": "https://localhost:8080/",
     "height": 204
    },
    "executionInfo": {
     "elapsed": 452,
     "status": "ok",
     "timestamp": 1654617009872,
     "user": {
      "displayName": "Alex. G",
      "userId": "06735517695008628971"
     },
     "user_tz": -180
    },
    "id": "OdaO6kYj2ufR",
    "outputId": "9b5b9e73-78b5-44f5-8df5-6ee66b1d6e41"
   },
   "outputs": [
    {
     "data": {
      "text/html": [
       "<div>\n",
       "<style scoped>\n",
       "    .dataframe tbody tr th:only-of-type {\n",
       "        vertical-align: middle;\n",
       "    }\n",
       "\n",
       "    .dataframe tbody tr th {\n",
       "        vertical-align: top;\n",
       "    }\n",
       "\n",
       "    .dataframe thead th {\n",
       "        text-align: right;\n",
       "    }\n",
       "</style>\n",
       "<table border=\"1\" class=\"dataframe\">\n",
       "  <thead>\n",
       "    <tr style=\"text-align: right;\">\n",
       "      <th></th>\n",
       "      <th>user</th>\n",
       "      <th>course</th>\n",
       "    </tr>\n",
       "  </thead>\n",
       "  <tbody>\n",
       "    <tr>\n",
       "      <th>0</th>\n",
       "      <td>51</td>\n",
       "      <td>[516, 1099]</td>\n",
       "    </tr>\n",
       "    <tr>\n",
       "      <th>1</th>\n",
       "      <td>6117</td>\n",
       "      <td>[356, 357, 1125]</td>\n",
       "    </tr>\n",
       "    <tr>\n",
       "      <th>2</th>\n",
       "      <td>10275</td>\n",
       "      <td>[553, 1147]</td>\n",
       "    </tr>\n",
       "    <tr>\n",
       "      <th>3</th>\n",
       "      <td>10457</td>\n",
       "      <td>[361, 1138]</td>\n",
       "    </tr>\n",
       "    <tr>\n",
       "      <th>4</th>\n",
       "      <td>17166</td>\n",
       "      <td>[356, 357]</td>\n",
       "    </tr>\n",
       "  </tbody>\n",
       "</table>\n",
       "</div>"
      ],
      "text/plain": [
       "    user            course\n",
       "0     51       [516, 1099]\n",
       "1   6117  [356, 357, 1125]\n",
       "2  10275       [553, 1147]\n",
       "3  10457       [361, 1138]\n",
       "4  17166        [356, 357]"
      ]
     },
     "execution_count": 6,
     "metadata": {},
     "output_type": "execute_result"
    }
   ],
   "source": [
    "# group courses by customer\n",
    "group_df = df.groupby('user')['course'].apply(lambda x:list(np.unique(x))).reset_index()\n",
    "group_df.head()"
   ]
  },
  {
   "cell_type": "code",
   "execution_count": 7,
   "metadata": {
    "colab": {
     "base_uri": "https://localhost:8080/",
     "height": 419
    },
    "executionInfo": {
     "elapsed": 8,
     "status": "ok",
     "timestamp": 1654617012409,
     "user": {
      "displayName": "Alex. G",
      "userId": "06735517695008628971"
     },
     "user_tz": -180
    },
    "id": "cS6TqwkW2ufR",
    "outputId": "0f5c68fb-7102-4a61-cc97-ea8d39fb8aef"
   },
   "outputs": [
    {
     "data": {
      "text/html": [
       "<div>\n",
       "<style scoped>\n",
       "    .dataframe tbody tr th:only-of-type {\n",
       "        vertical-align: middle;\n",
       "    }\n",
       "\n",
       "    .dataframe tbody tr th {\n",
       "        vertical-align: top;\n",
       "    }\n",
       "\n",
       "    .dataframe thead th {\n",
       "        text-align: right;\n",
       "    }\n",
       "</style>\n",
       "<table border=\"1\" class=\"dataframe\">\n",
       "  <thead>\n",
       "    <tr style=\"text-align: right;\">\n",
       "      <th></th>\n",
       "      <th>user</th>\n",
       "      <th>course</th>\n",
       "      <th>course_cnt</th>\n",
       "    </tr>\n",
       "  </thead>\n",
       "  <tbody>\n",
       "    <tr>\n",
       "      <th>0</th>\n",
       "      <td>51</td>\n",
       "      <td>[516, 1099]</td>\n",
       "      <td>2</td>\n",
       "    </tr>\n",
       "    <tr>\n",
       "      <th>8000</th>\n",
       "      <td>1147815</td>\n",
       "      <td>[552, 829]</td>\n",
       "      <td>2</td>\n",
       "    </tr>\n",
       "    <tr>\n",
       "      <th>8001</th>\n",
       "      <td>1147943</td>\n",
       "      <td>[551, 659]</td>\n",
       "      <td>2</td>\n",
       "    </tr>\n",
       "    <tr>\n",
       "      <th>8002</th>\n",
       "      <td>1147952</td>\n",
       "      <td>[363, 566]</td>\n",
       "      <td>2</td>\n",
       "    </tr>\n",
       "    <tr>\n",
       "      <th>8005</th>\n",
       "      <td>1148026</td>\n",
       "      <td>[569, 840]</td>\n",
       "      <td>2</td>\n",
       "    </tr>\n",
       "    <tr>\n",
       "      <th>...</th>\n",
       "      <td>...</td>\n",
       "      <td>...</td>\n",
       "      <td>...</td>\n",
       "    </tr>\n",
       "    <tr>\n",
       "      <th>5562</th>\n",
       "      <td>992470</td>\n",
       "      <td>[489, 502, 514, 515, 517, 518, 519, 523, 551, ...</td>\n",
       "      <td>17</td>\n",
       "    </tr>\n",
       "    <tr>\n",
       "      <th>4072</th>\n",
       "      <td>722252</td>\n",
       "      <td>[357, 366, 489, 490, 502, 514, 515, 523, 551, ...</td>\n",
       "      <td>17</td>\n",
       "    </tr>\n",
       "    <tr>\n",
       "      <th>6412</th>\n",
       "      <td>1050532</td>\n",
       "      <td>[363, 366, 489, 502, 511, 523, 551, 552, 562, ...</td>\n",
       "      <td>18</td>\n",
       "    </tr>\n",
       "    <tr>\n",
       "      <th>5370</th>\n",
       "      <td>953401</td>\n",
       "      <td>[490, 502, 514, 515, 518, 519, 523, 551, 552, ...</td>\n",
       "      <td>18</td>\n",
       "    </tr>\n",
       "    <tr>\n",
       "      <th>3145</th>\n",
       "      <td>694146</td>\n",
       "      <td>[489, 490, 515, 523, 552, 564, 566, 670, 764, ...</td>\n",
       "      <td>19</td>\n",
       "    </tr>\n",
       "  </tbody>\n",
       "</table>\n",
       "<p>12656 rows × 3 columns</p>\n",
       "</div>"
      ],
      "text/plain": [
       "         user                                             course  course_cnt\n",
       "0          51                                        [516, 1099]           2\n",
       "8000  1147815                                         [552, 829]           2\n",
       "8001  1147943                                         [551, 659]           2\n",
       "8002  1147952                                         [363, 566]           2\n",
       "8005  1148026                                         [569, 840]           2\n",
       "...       ...                                                ...         ...\n",
       "5562   992470  [489, 502, 514, 515, 517, 518, 519, 523, 551, ...          17\n",
       "4072   722252  [357, 366, 489, 490, 502, 514, 515, 523, 551, ...          17\n",
       "6412  1050532  [363, 366, 489, 502, 511, 523, 551, 552, 562, ...          18\n",
       "5370   953401  [490, 502, 514, 515, 518, 519, 523, 551, 552, ...          18\n",
       "3145   694146  [489, 490, 515, 523, 552, 564, 566, 670, 764, ...          19\n",
       "\n",
       "[12656 rows x 3 columns]"
      ]
     },
     "execution_count": 7,
     "metadata": {},
     "output_type": "execute_result"
    }
   ],
   "source": [
    "# check that minimal number of courses by customer is 2\n",
    "group_df['course_cnt'] = group_df['course'].str.len()\n",
    "group_df.sort_values(by='course_cnt')"
   ]
  },
  {
   "cell_type": "code",
   "execution_count": 8,
   "metadata": {
    "colab": {
     "base_uri": "https://localhost:8080/"
    },
    "executionInfo": {
     "elapsed": 5,
     "status": "ok",
     "timestamp": 1654617013837,
     "user": {
      "displayName": "Alex. G",
      "userId": "06735517695008628971"
     },
     "user_tz": -180
    },
    "id": "Wl0yBSx42ufT",
    "outputId": "72d75fba-eafd-42ef-c31e-8e2fb078b71d"
   },
   "outputs": [
    {
     "data": {
      "text/plain": [
       "40017"
      ]
     },
     "execution_count": 8,
     "metadata": {},
     "output_type": "execute_result"
    }
   ],
   "source": [
    "# list of courses bought together (pairs)\n",
    "list_courses = list()\n",
    "for course in group_df['course']:\n",
    "    for pair in itertools.combinations(course,2):\n",
    "        list_courses.append(pair)\n",
    "len(list_courses)"
   ]
  },
  {
   "cell_type": "code",
   "execution_count": 9,
   "metadata": {
    "colab": {
     "base_uri": "https://localhost:8080/"
    },
    "executionInfo": {
     "elapsed": 249,
     "status": "ok",
     "timestamp": 1654617016941,
     "user": {
      "displayName": "Alex. G",
      "userId": "06735517695008628971"
     },
     "user_tz": -180
    },
    "id": "n0Fbnysp2ufU",
    "outputId": "337bef72-9bf9-4c48-8a90-2538527c4ea4"
   },
   "outputs": [
    {
     "data": {
      "text/plain": [
       "3989"
      ]
     },
     "execution_count": 9,
     "metadata": {},
     "output_type": "execute_result"
    }
   ],
   "source": [
    "# total number of pairs\n",
    "list_courses_set = set(list_courses)\n",
    "len(list_courses_set)"
   ]
  },
  {
   "cell_type": "code",
   "execution_count": 10,
   "metadata": {
    "colab": {
     "base_uri": "https://localhost:8080/"
    },
    "executionInfo": {
     "elapsed": 272,
     "status": "ok",
     "timestamp": 1654617019191,
     "user": {
      "displayName": "Alex. G",
      "userId": "06735517695008628971"
     },
     "user_tz": -180
    },
    "id": "yYAH-Ye72ufU",
    "outputId": "32f6a91c-5991-456c-9dc3-94e6cd484748"
   },
   "outputs": [
    {
     "data": {
      "text/plain": [
       "[((551, 566), 797),\n",
       " ((515, 551), 417),\n",
       " ((489, 551), 311),\n",
       " ((523, 551), 304),\n",
       " ((566, 794), 290)]"
      ]
     },
     "execution_count": 10,
     "metadata": {},
     "output_type": "execute_result"
    }
   ],
   "source": [
    "# most popular courses bought together\n",
    "course_pairs = Counter(pair for pair in list_courses)\n",
    "course_pairs.most_common(5)"
   ]
  },
  {
   "cell_type": "markdown",
   "metadata": {
    "id": "acxeCvBQ2ufV"
   },
   "source": [
    "### 3. Build total dataframe for recommendation system"
   ]
  },
  {
   "cell_type": "code",
   "execution_count": 11,
   "metadata": {
    "executionInfo": {
     "elapsed": 520,
     "status": "ok",
     "timestamp": 1654617022055,
     "user": {
      "displayName": "Alex. G",
      "userId": "06735517695008628971"
     },
     "user_tz": -180
    },
    "id": "KsEkhAJa2ufW"
   },
   "outputs": [],
   "source": [
    "# sort pairs by first course\n",
    "sorted_pairs = {k: v for k, v in sorted(course_pairs.items(), key=lambda item: item[0], reverse=False)}\n",
    "# unique course ids\n",
    "courses = df['course'].unique()"
   ]
  },
  {
   "cell_type": "code",
   "execution_count": 12,
   "metadata": {
    "colab": {
     "base_uri": "https://localhost:8080/"
    },
    "executionInfo": {
     "elapsed": 237,
     "status": "ok",
     "timestamp": 1654617023656,
     "user": {
      "displayName": "Alex. G",
      "userId": "06735517695008628971"
     },
     "user_tz": -180
    },
    "id": "ZwHrWYWz2ufX",
    "outputId": "08a5e3e2-ae74-49dd-dd34-db1e6d10a6d7"
   },
   "outputs": [
    {
     "data": {
      "text/plain": [
       "[((864, 1125), 4), ((864, 1138), 3)]"
      ]
     },
     "execution_count": 12,
     "metadata": {},
     "output_type": "execute_result"
    }
   ],
   "source": [
    "# list of the most popular pair for each course\n",
    "def recommend(course):\n",
    "    course_list = []\n",
    "    for i in sorted_pairs.keys():\n",
    "        if i[0] == course:\n",
    "            course_list.append((i, sorted_pairs[i]))  \n",
    "    sorted_course_list = sorted(course_list, key=lambda x: x[1], reverse=True)\n",
    "    return sorted_course_list[:2]   \n",
    "\n",
    "recommend(864) # function test"
   ]
  },
  {
   "cell_type": "code",
   "execution_count": 13,
   "metadata": {
    "colab": {
     "base_uri": "https://localhost:8080/",
     "height": 669
    },
    "executionInfo": {
     "elapsed": 922,
     "status": "ok",
     "timestamp": 1654617025322,
     "user": {
      "displayName": "Alex. G",
      "userId": "06735517695008628971"
     },
     "user_tz": -180
    },
    "id": "InlaOzPc2ufX",
    "outputId": "fe26464e-95c7-4387-e138-1e2448b1a6bf"
   },
   "outputs": [
    {
     "data": {
      "text/html": [
       "<div>\n",
       "<style scoped>\n",
       "    .dataframe tbody tr th:only-of-type {\n",
       "        vertical-align: middle;\n",
       "    }\n",
       "\n",
       "    .dataframe tbody tr th {\n",
       "        vertical-align: top;\n",
       "    }\n",
       "\n",
       "    .dataframe thead th {\n",
       "        text-align: right;\n",
       "    }\n",
       "</style>\n",
       "<table border=\"1\" class=\"dataframe\">\n",
       "  <thead>\n",
       "    <tr style=\"text-align: right;\">\n",
       "      <th></th>\n",
       "      <th>Recommendation 1</th>\n",
       "      <th>Recommendation 2</th>\n",
       "    </tr>\n",
       "  </thead>\n",
       "  <tbody>\n",
       "    <tr>\n",
       "      <th>1145</th>\n",
       "      <td>1161</td>\n",
       "      <td>1156</td>\n",
       "    </tr>\n",
       "    <tr>\n",
       "      <th>1188</th>\n",
       "      <td>NaN</td>\n",
       "      <td>NaN</td>\n",
       "    </tr>\n",
       "    <tr>\n",
       "      <th>756</th>\n",
       "      <td>764</td>\n",
       "      <td>777</td>\n",
       "    </tr>\n",
       "    <tr>\n",
       "      <th>866</th>\n",
       "      <td>1103</td>\n",
       "      <td>1104</td>\n",
       "    </tr>\n",
       "    <tr>\n",
       "      <th>749</th>\n",
       "      <td>794</td>\n",
       "      <td>757</td>\n",
       "    </tr>\n",
       "    <tr>\n",
       "      <th>368</th>\n",
       "      <td>572</td>\n",
       "      <td>569</td>\n",
       "    </tr>\n",
       "    <tr>\n",
       "      <th>364</th>\n",
       "      <td>551</td>\n",
       "      <td>503</td>\n",
       "    </tr>\n",
       "    <tr>\n",
       "      <th>834</th>\n",
       "      <td>1102</td>\n",
       "      <td>1103</td>\n",
       "    </tr>\n",
       "    <tr>\n",
       "      <th>1152</th>\n",
       "      <td>1160.0</td>\n",
       "      <td>NaN</td>\n",
       "    </tr>\n",
       "    <tr>\n",
       "      <th>670</th>\n",
       "      <td>756</td>\n",
       "      <td>764</td>\n",
       "    </tr>\n",
       "    <tr>\n",
       "      <th>1199</th>\n",
       "      <td>NaN</td>\n",
       "      <td>NaN</td>\n",
       "    </tr>\n",
       "    <tr>\n",
       "      <th>836</th>\n",
       "      <td>1141</td>\n",
       "      <td>1100</td>\n",
       "    </tr>\n",
       "    <tr>\n",
       "      <th>1201</th>\n",
       "      <td>NaN</td>\n",
       "      <td>NaN</td>\n",
       "    </tr>\n",
       "    <tr>\n",
       "      <th>1129</th>\n",
       "      <td>1161</td>\n",
       "      <td>1138</td>\n",
       "    </tr>\n",
       "    <tr>\n",
       "      <th>1182</th>\n",
       "      <td>1187.0</td>\n",
       "      <td>NaN</td>\n",
       "    </tr>\n",
       "    <tr>\n",
       "      <th>902</th>\n",
       "      <td>NaN</td>\n",
       "      <td>NaN</td>\n",
       "    </tr>\n",
       "    <tr>\n",
       "      <th>837</th>\n",
       "      <td>840</td>\n",
       "      <td>1161</td>\n",
       "    </tr>\n",
       "    <tr>\n",
       "      <th>1200</th>\n",
       "      <td>NaN</td>\n",
       "      <td>NaN</td>\n",
       "    </tr>\n",
       "    <tr>\n",
       "      <th>833</th>\n",
       "      <td>NaN</td>\n",
       "      <td>NaN</td>\n",
       "    </tr>\n",
       "    <tr>\n",
       "      <th>830</th>\n",
       "      <td>907</td>\n",
       "      <td>1116</td>\n",
       "    </tr>\n",
       "  </tbody>\n",
       "</table>\n",
       "</div>"
      ],
      "text/plain": [
       "     Recommendation 1 Recommendation 2\n",
       "1145             1161             1156\n",
       "1188              NaN              NaN\n",
       "756               764              777\n",
       "866              1103             1104\n",
       "749               794              757\n",
       "368               572              569\n",
       "364               551              503\n",
       "834              1102             1103\n",
       "1152           1160.0              NaN\n",
       "670               756              764\n",
       "1199              NaN              NaN\n",
       "836              1141             1100\n",
       "1201              NaN              NaN\n",
       "1129             1161             1138\n",
       "1182           1187.0              NaN\n",
       "902               NaN              NaN\n",
       "837               840             1161\n",
       "1200              NaN              NaN\n",
       "833               NaN              NaN\n",
       "830               907             1116"
      ]
     },
     "execution_count": 13,
     "metadata": {},
     "output_type": "execute_result"
    }
   ],
   "source": [
    "# build table for courses and recommendations\n",
    "recommend_df = pd.DataFrame(columns=['Recommendation 1', 'Recommendation 2'])\n",
    "for i in courses:  \n",
    "    if len(recommend(i)) == 2:  \n",
    "        recommend_df.loc[i] = [recommend(i)[0][0][1], recommend(i)[1][0][1]]    \n",
    "    elif len(recommend(i)) == 1:   \n",
    "        recommend_df.loc[i] = [recommend(i)[0][0][1], np.nan] \n",
    "    else:\n",
    "        recommend_df.loc[i] = [np.nan, np.nan]\n",
    "\n",
    "recommend_df.tail(20)"
   ]
  },
  {
   "cell_type": "markdown",
   "metadata": {
    "id": "KfSPrFnf2ufY"
   },
   "source": [
    "The result is a recommendation table based on courses popularity without minimum limit for frequency.\n",
    "\n",
    "There are also no recommendations for infrequently purchased courses.\n",
    "\n",
    "Let's study pair purchases number of courses depending on pair rating."
   ]
  },
  {
   "cell_type": "code",
   "execution_count": 14,
   "metadata": {
    "colab": {
     "base_uri": "https://localhost:8080/",
     "height": 204
    },
    "executionInfo": {
     "elapsed": 9,
     "status": "ok",
     "timestamp": 1654617027441,
     "user": {
      "displayName": "Alex. G",
      "userId": "06735517695008628971"
     },
     "user_tz": -180
    },
    "id": "eQM2PVyn2ufZ",
    "outputId": "a46edf12-3415-422f-f141-58ac35660cd1"
   },
   "outputs": [
    {
     "data": {
      "text/html": [
       "<div>\n",
       "<style scoped>\n",
       "    .dataframe tbody tr th:only-of-type {\n",
       "        vertical-align: middle;\n",
       "    }\n",
       "\n",
       "    .dataframe tbody tr th {\n",
       "        vertical-align: top;\n",
       "    }\n",
       "\n",
       "    .dataframe thead th {\n",
       "        text-align: right;\n",
       "    }\n",
       "</style>\n",
       "<table border=\"1\" class=\"dataframe\">\n",
       "  <thead>\n",
       "    <tr style=\"text-align: right;\">\n",
       "      <th></th>\n",
       "      <th>course_pair</th>\n",
       "      <th>rating</th>\n",
       "    </tr>\n",
       "  </thead>\n",
       "  <tbody>\n",
       "    <tr>\n",
       "      <th>186</th>\n",
       "      <td>(551, 566)</td>\n",
       "      <td>797</td>\n",
       "    </tr>\n",
       "    <tr>\n",
       "      <th>381</th>\n",
       "      <td>(515, 551)</td>\n",
       "      <td>417</td>\n",
       "    </tr>\n",
       "    <tr>\n",
       "      <th>205</th>\n",
       "      <td>(489, 551)</td>\n",
       "      <td>311</td>\n",
       "    </tr>\n",
       "    <tr>\n",
       "      <th>105</th>\n",
       "      <td>(523, 551)</td>\n",
       "      <td>304</td>\n",
       "    </tr>\n",
       "    <tr>\n",
       "      <th>519</th>\n",
       "      <td>(566, 794)</td>\n",
       "      <td>290</td>\n",
       "    </tr>\n",
       "  </tbody>\n",
       "</table>\n",
       "</div>"
      ],
      "text/plain": [
       "    course_pair  rating\n",
       "186  (551, 566)     797\n",
       "381  (515, 551)     417\n",
       "205  (489, 551)     311\n",
       "105  (523, 551)     304\n",
       "519  (566, 794)     290"
      ]
     },
     "execution_count": 14,
     "metadata": {},
     "output_type": "execute_result"
    }
   ],
   "source": [
    "# build table with rating pair courses count\n",
    "df_rating = pd.DataFrame.from_dict(course_pairs, orient='index').reset_index()\n",
    "df_rating.columns = ['course_pair', 'rating']\n",
    "df_rating.sort_values(by='rating',ascending=False).head()"
   ]
  },
  {
   "cell_type": "code",
   "execution_count": 15,
   "metadata": {
    "colab": {
     "base_uri": "https://localhost:8080/",
     "height": 359
    },
    "executionInfo": {
     "elapsed": 8,
     "status": "ok",
     "timestamp": 1654617028136,
     "user": {
      "displayName": "Alex. G",
      "userId": "06735517695008628971"
     },
     "user_tz": -180
    },
    "id": "GKIxWGgJ2ufZ",
    "outputId": "38c18d5e-c8d8-4d10-aa5c-b2f62433d2e3"
   },
   "outputs": [
    {
     "data": {
      "text/html": [
       "<div>\n",
       "<style scoped>\n",
       "    .dataframe tbody tr th:only-of-type {\n",
       "        vertical-align: middle;\n",
       "    }\n",
       "\n",
       "    .dataframe tbody tr th {\n",
       "        vertical-align: top;\n",
       "    }\n",
       "\n",
       "    .dataframe thead th {\n",
       "        text-align: right;\n",
       "    }\n",
       "</style>\n",
       "<table border=\"1\" class=\"dataframe\">\n",
       "  <thead>\n",
       "    <tr style=\"text-align: right;\">\n",
       "      <th></th>\n",
       "      <th>rating</th>\n",
       "      <th>purch_amount</th>\n",
       "    </tr>\n",
       "  </thead>\n",
       "  <tbody>\n",
       "    <tr>\n",
       "      <th>0</th>\n",
       "      <td>1</td>\n",
       "      <td>1185</td>\n",
       "    </tr>\n",
       "    <tr>\n",
       "      <th>1</th>\n",
       "      <td>2</td>\n",
       "      <td>578</td>\n",
       "    </tr>\n",
       "    <tr>\n",
       "      <th>2</th>\n",
       "      <td>3</td>\n",
       "      <td>366</td>\n",
       "    </tr>\n",
       "    <tr>\n",
       "      <th>3</th>\n",
       "      <td>4</td>\n",
       "      <td>259</td>\n",
       "    </tr>\n",
       "    <tr>\n",
       "      <th>4</th>\n",
       "      <td>5</td>\n",
       "      <td>202</td>\n",
       "    </tr>\n",
       "    <tr>\n",
       "      <th>5</th>\n",
       "      <td>6</td>\n",
       "      <td>148</td>\n",
       "    </tr>\n",
       "    <tr>\n",
       "      <th>6</th>\n",
       "      <td>7</td>\n",
       "      <td>148</td>\n",
       "    </tr>\n",
       "    <tr>\n",
       "      <th>7</th>\n",
       "      <td>8</td>\n",
       "      <td>95</td>\n",
       "    </tr>\n",
       "    <tr>\n",
       "      <th>8</th>\n",
       "      <td>9</td>\n",
       "      <td>80</td>\n",
       "    </tr>\n",
       "    <tr>\n",
       "      <th>9</th>\n",
       "      <td>10</td>\n",
       "      <td>87</td>\n",
       "    </tr>\n",
       "  </tbody>\n",
       "</table>\n",
       "</div>"
      ],
      "text/plain": [
       "   rating  purch_amount\n",
       "0       1          1185\n",
       "1       2           578\n",
       "2       3           366\n",
       "3       4           259\n",
       "4       5           202\n",
       "5       6           148\n",
       "6       7           148\n",
       "7       8            95\n",
       "8       9            80\n",
       "9      10            87"
      ]
     },
     "execution_count": 15,
     "metadata": {},
     "output_type": "execute_result"
    }
   ],
   "source": [
    "# group table by rating to show count of purchases for each rating\n",
    "grouped_rating = df_rating.groupby('rating')['course_pair'].count().reset_index()\n",
    "grouped_rating.columns = ['rating', 'purch_amount']\n",
    "grouped_rating.head(10)"
   ]
  },
  {
   "cell_type": "code",
   "execution_count": 16,
   "metadata": {
    "colab": {
     "base_uri": "https://localhost:8080/",
     "height": 366
    },
    "executionInfo": {
     "elapsed": 802,
     "status": "ok",
     "timestamp": 1654617030307,
     "user": {
      "displayName": "Alex. G",
      "userId": "06735517695008628971"
     },
     "user_tz": -180
    },
    "id": "mcb7ymVK2ufa",
    "outputId": "ae4c6646-9a3b-4acd-f127-bd5008571fb2"
   },
   "outputs": [
    {
     "data": {
      "text/plain": [
       "Text(0, 0.5, 'Rating pair')"
      ]
     },
     "execution_count": 16,
     "metadata": {},
     "output_type": "execute_result"
    },
    {
     "data": {
      "image/png": "[encoded data removed]",
      "text/plain": [
       "<Figure size 864x288 with 1 Axes>"
      ]
     },
     "metadata": {
      "needs_background": "light"
     },
     "output_type": "display_data"
    }
   ],
   "source": [
    "# build graph that shows dependence number of pair purchases by rating\n",
    "fig = plt.figure(figsize=(12, 4))\n",
    "axes = fig.add_axes([0, 0, 1, 1])\n",
    "axes.scatter(grouped_rating['purch_amount'], grouped_rating['rating'],\n",
    "    s=30,\n",
    "    marker='o',\n",
    ")\n",
    "plt.title('Dependence number of pair purchases by pair rating')\n",
    "plt.xlabel('Count courses with same rating')\n",
    "plt.ylabel('Rating pair')"
   ]
  },
  {
   "cell_type": "markdown",
   "metadata": {
    "id": "w56sTSQl2ufb"
   },
   "source": [
    "The graph shows that the highest density of purchases number is from 1 to 100. According to grouped_rating the exact value is 95 with rating 8. \n",
    "\n",
    "And this condition will be used for final recommendation dataframe.\n",
    "\n",
    "Instead of less popular courses the pair with the highest rating will be used for recommendation."
   ]
  },
  {
   "cell_type": "code",
   "execution_count": 17,
   "metadata": {
    "colab": {
     "base_uri": "https://localhost:8080/"
    },
    "executionInfo": {
     "elapsed": 273,
     "status": "ok",
     "timestamp": 1654617034846,
     "user": {
      "displayName": "Alex. G",
      "userId": "06735517695008628971"
     },
     "user_tz": -180
    },
    "id": "pzd5jZh12ufb",
    "outputId": "add078cc-44a9-4e1e-ac3b-54ed84a8f920"
   },
   "outputs": [
    {
     "name": "stdout",
     "output_type": "stream",
     "text": [
      "551 566\n"
     ]
    }
   ],
   "source": [
    "# split most popular pair\n",
    "popular_pair = df_rating.sort_values(by='rating',ascending=False).head(1).course_pair.tolist()\n",
    "popular_course_1 = popular_pair[0][0]\n",
    "popular_course_2 = popular_pair[0][1]\n",
    "print(popular_course_1, popular_course_2)"
   ]
  },
  {
   "cell_type": "code",
   "execution_count": 18,
   "metadata": {
    "colab": {
     "base_uri": "https://localhost:8080/",
     "height": 419
    },
    "executionInfo": {
     "elapsed": 605,
     "status": "ok",
     "timestamp": 1654617036237,
     "user": {
      "displayName": "Alex. G",
      "userId": "06735517695008628971"
     },
     "user_tz": -180
    },
    "id": "SkXDbXbS2ufc",
    "outputId": "9770aceb-50f9-4e9f-8c4e-c9fcd70fbd77",
    "scrolled": true
   },
   "outputs": [
    {
     "data": {
      "text/html": [
       "<div>\n",
       "<style scoped>\n",
       "    .dataframe tbody tr th:only-of-type {\n",
       "        vertical-align: middle;\n",
       "    }\n",
       "\n",
       "    .dataframe tbody tr th {\n",
       "        vertical-align: top;\n",
       "    }\n",
       "\n",
       "    .dataframe thead th {\n",
       "        text-align: right;\n",
       "    }\n",
       "</style>\n",
       "<table border=\"1\" class=\"dataframe\">\n",
       "  <thead>\n",
       "    <tr style=\"text-align: right;\">\n",
       "      <th></th>\n",
       "      <th>Course</th>\n",
       "      <th>Recommendation 1</th>\n",
       "      <th>Recommendation 2</th>\n",
       "    </tr>\n",
       "  </thead>\n",
       "  <tbody>\n",
       "    <tr>\n",
       "      <th>0</th>\n",
       "      <td>516</td>\n",
       "      <td>745</td>\n",
       "      <td>553</td>\n",
       "    </tr>\n",
       "    <tr>\n",
       "      <th>1</th>\n",
       "      <td>1099</td>\n",
       "      <td>1139</td>\n",
       "      <td>1187</td>\n",
       "    </tr>\n",
       "    <tr>\n",
       "      <th>2</th>\n",
       "      <td>356</td>\n",
       "      <td>571</td>\n",
       "      <td>357</td>\n",
       "    </tr>\n",
       "    <tr>\n",
       "      <th>3</th>\n",
       "      <td>357</td>\n",
       "      <td>571</td>\n",
       "      <td>1125</td>\n",
       "    </tr>\n",
       "    <tr>\n",
       "      <th>4</th>\n",
       "      <td>1125</td>\n",
       "      <td>1186</td>\n",
       "      <td>1144</td>\n",
       "    </tr>\n",
       "    <tr>\n",
       "      <th>...</th>\n",
       "      <td>...</td>\n",
       "      <td>...</td>\n",
       "      <td>...</td>\n",
       "    </tr>\n",
       "    <tr>\n",
       "      <th>121</th>\n",
       "      <td>902</td>\n",
       "      <td>551</td>\n",
       "      <td>566</td>\n",
       "    </tr>\n",
       "    <tr>\n",
       "      <th>122</th>\n",
       "      <td>837</td>\n",
       "      <td>551</td>\n",
       "      <td>566</td>\n",
       "    </tr>\n",
       "    <tr>\n",
       "      <th>123</th>\n",
       "      <td>1200</td>\n",
       "      <td>551</td>\n",
       "      <td>566</td>\n",
       "    </tr>\n",
       "    <tr>\n",
       "      <th>124</th>\n",
       "      <td>833</td>\n",
       "      <td>551</td>\n",
       "      <td>566</td>\n",
       "    </tr>\n",
       "    <tr>\n",
       "      <th>125</th>\n",
       "      <td>830</td>\n",
       "      <td>551</td>\n",
       "      <td>566</td>\n",
       "    </tr>\n",
       "  </tbody>\n",
       "</table>\n",
       "<p>126 rows × 3 columns</p>\n",
       "</div>"
      ],
      "text/plain": [
       "     Course Recommendation 1 Recommendation 2\n",
       "0       516              745              553\n",
       "1      1099             1139             1187\n",
       "2       356              571              357\n",
       "3       357              571             1125\n",
       "4      1125             1186             1144\n",
       "..      ...              ...              ...\n",
       "121     902              551              566\n",
       "122     837              551              566\n",
       "123    1200              551              566\n",
       "124     833              551              566\n",
       "125     830              551              566\n",
       "\n",
       "[126 rows x 3 columns]"
      ]
     },
     "execution_count": 18,
     "metadata": {},
     "output_type": "execute_result"
    }
   ],
   "source": [
    "# build final dataframe with course and 2 course recommendation for each course\n",
    "fin_recommend_df = pd.DataFrame(columns=['Recommendation 1', 'Recommendation 2'])\n",
    "for i in courses:   \n",
    "    if len(recommend(i)) == 2 and recommend(i)[0][1] >= 8 and recommend(i)[1][1] >= 8: \n",
    "       \n",
    "        fin_recommend_df.loc[i] = [recommend(i)[0][0][1], recommend(i)[1][0][1]]    \n",
    "    elif len(recommend(i)) == 2 and recommend(i)[0][1] >= 8 and recommend(i)[1][1] < 8:\n",
    "        \n",
    "        fin_recommend_df.loc[i] = [recommend(i)[0][0][1], popular_course_1] \n",
    "        \n",
    "    elif len(recommend(i)) == 2 and recommend(i)[0][1] < 8 and recommend(i)[1][1] < 8:\n",
    "        \n",
    "        fin_recommend_df.loc[i] = [popular_course_1, popular_course_2]\n",
    "    elif len(recommend(i)) == 1 and recommend(i)[0][1] >= 8:    \n",
    "        fin_recommend_df.loc[i] = [recommend(i)[0][0][1], popular_course_1] \n",
    "    else:\n",
    "        fin_recommend_df.loc[i] = [popular_course_1, popular_course_2] \n",
    "        \n",
    "fin_recommend_df=fin_recommend_df.reset_index()\n",
    "fin_recommend_df=fin_recommend_df.rename(columns = {'index' : 'Course'})\n",
    "fin_recommend_df"
   ]
  },
  {
   "cell_type": "code",
   "execution_count": 19,
   "metadata": {},
   "outputs": [],
   "source": [
    "fin_recommend_df.to_csv('fin_recommend_df', encoding = 'utf8')"
   ]
  },
  {
   "cell_type": "markdown",
   "metadata": {},
   "source": [
    "## In final table we can see two recommendations for each course according to purchases popularity.\n",
    "\n",
    "## The table is stored in .csv format."
   ]
  }
 ],
 "metadata": {
  "colab": {
   "name": "PROJECT-4.ipynb",
   "provenance": []
  },
  "kernelspec": {
   "display_name": "Python 3 (ipykernel)",
   "language": "python",
   "name": "python3"
  },
  "language_info": {
   "codemirror_mode": {
    "name": "ipython",
    "version": 3
   },
   "file_extension": ".py",
   "mimetype": "text/x-python",
   "name": "python",
   "nbconvert_exporter": "python",
   "pygments_lexer": "ipython3",
   "version": "3.9.7"
  },
  "toc": {
   "base_numbering": 1,
   "nav_menu": {},
   "number_sections": false,
   "sideBar": true,
   "skip_h1_title": false,
   "title_cell": "Table of Contents",
   "title_sidebar": "Contents",
   "toc_cell": false,
   "toc_position": {},
   "toc_section_display": true,
   "toc_window_display": false
  },
  "vscode": {
   "interpreter": {
    "hash": "916dbcbb3f70747c44a77c7bcd40155683ae19c65e1c03b4aa3499c5328201f1"
   }
  }
 },
 "nbformat": 4,
 "nbformat_minor": 1
}
